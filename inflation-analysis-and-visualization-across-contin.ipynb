{
 "cells": [
  {
   "cell_type": "markdown",
   "id": "75d726bc",
   "metadata": {
    "papermill": {
     "duration": 0.007936,
     "end_time": "2023-03-16T22:38:17.806905",
     "exception": false,
     "start_time": "2023-03-16T22:38:17.798969",
     "status": "completed"
    },
    "tags": []
   },
   "source": [
    "### Import Packages"
   ]
  },
  {
   "cell_type": "code",
   "execution_count": 1,
   "id": "c2bc782a",
   "metadata": {
    "execution": {
     "iopub.execute_input": "2023-03-16T22:38:17.822509Z",
     "iopub.status.busy": "2023-03-16T22:38:17.822099Z",
     "iopub.status.idle": "2023-03-16T22:38:17.965291Z",
     "shell.execute_reply": "2023-03-16T22:38:17.964063Z"
    },
    "papermill": {
     "duration": 0.154621,
     "end_time": "2023-03-16T22:38:17.968460",
     "exception": false,
     "start_time": "2023-03-16T22:38:17.813839",
     "status": "completed"
    },
    "tags": []
   },
   "outputs": [
    {
     "ename": "ModuleNotFoundError",
     "evalue": "No module named 'plotly'",
     "output_type": "error",
     "traceback": [
      "\u001b[1;31m---------------------------------------------------------------------------\u001b[0m",
      "\u001b[1;31mModuleNotFoundError\u001b[0m                       Traceback (most recent call last)",
      "\u001b[1;32m<ipython-input-1-3311ac57eb6a>\u001b[0m in \u001b[0;36m<module>\u001b[1;34m\u001b[0m\n\u001b[0;32m      1\u001b[0m \u001b[1;32mimport\u001b[0m \u001b[0mpandas\u001b[0m \u001b[1;32mas\u001b[0m \u001b[0mpd\u001b[0m\u001b[1;33m\u001b[0m\u001b[1;33m\u001b[0m\u001b[0m\n\u001b[1;32m----> 2\u001b[1;33m \u001b[1;32mimport\u001b[0m \u001b[0mplotly\u001b[0m\u001b[1;33m\u001b[0m\u001b[1;33m\u001b[0m\u001b[0m\n\u001b[0m\u001b[0;32m      3\u001b[0m \u001b[1;32mimport\u001b[0m \u001b[0mplotly\u001b[0m\u001b[1;33m.\u001b[0m\u001b[0mgraph_objects\u001b[0m \u001b[1;32mas\u001b[0m \u001b[0mgo\u001b[0m\u001b[1;33m\u001b[0m\u001b[1;33m\u001b[0m\u001b[0m\n\u001b[0;32m      4\u001b[0m \u001b[1;32mimport\u001b[0m \u001b[0mplotly\u001b[0m\u001b[1;33m.\u001b[0m\u001b[0msubplots\u001b[0m \u001b[1;32mas\u001b[0m \u001b[0msp\u001b[0m\u001b[1;33m\u001b[0m\u001b[1;33m\u001b[0m\u001b[0m\n\u001b[0;32m      5\u001b[0m \u001b[1;32mimport\u001b[0m \u001b[0mre\u001b[0m\u001b[1;33m\u001b[0m\u001b[1;33m\u001b[0m\u001b[0m\n",
      "\u001b[1;31mModuleNotFoundError\u001b[0m: No module named 'plotly'"
     ]
    }
   ],
   "source": [
    "import pandas as pd \n",
    "import plotly\n",
    "import plotly.graph_objects as go\n",
    "import plotly.subplots as sp\n",
    "import re\n",
    "from IPython.display import display_html"
   ]
  },
  {
   "cell_type": "markdown",
   "id": "6a43413f",
   "metadata": {
    "papermill": {
     "duration": 0.006293,
     "end_time": "2023-03-16T22:38:17.981501",
     "exception": false,
     "start_time": "2023-03-16T22:38:17.975208",
     "status": "completed"
    },
    "tags": []
   },
   "source": [
    "### Data Preparation"
   ]
  },
  {
   "cell_type": "markdown",
   "id": "d72856ab",
   "metadata": {
    "papermill": {
     "duration": 0.006418,
     "end_time": "2023-03-16T22:38:17.994503",
     "exception": false,
     "start_time": "2023-03-16T22:38:17.988085",
     "status": "completed"
    },
    "tags": []
   },
   "source": [
    "In the first step, we import our data and add a 'continent' column which will be useful for our analysis later on. We then explore the data by examining the number of variables and the number of different categories within these variables."
   ]
  },
  {
   "cell_type": "code",
   "execution_count": null,
   "id": "a653a5e8",
   "metadata": {
    "execution": {
     "iopub.execute_input": "2023-03-16T22:38:18.010872Z",
     "iopub.status.busy": "2023-03-16T22:38:18.009939Z",
     "iopub.status.idle": "2023-03-16T22:38:18.101613Z",
     "shell.execute_reply": "2023-03-16T22:38:18.100371Z"
    },
    "papermill": {
     "duration": 0.102711,
     "end_time": "2023-03-16T22:38:18.104417",
     "exception": false,
     "start_time": "2023-03-16T22:38:18.001706",
     "status": "completed"
    },
    "scrolled": true,
    "tags": []
   },
   "outputs": [],
   "source": [
    "\n",
    "def import_and_process_csv(csv_file_path):\n",
    "    \"\"\"\n",
    "    This function reads a CSV file, processes the column names by converting them to lowercase, replacing spaces\n",
    "    with underscores, replacing special characters with underscores, and removing the specified 'Unnamed' columns.\n",
    "\n",
    "    Args:\n",
    "        csv_file_path (str): The path to the CSV file.\n",
    "\n",
    "    Returns:\n",
    "        pd.DataFrame: The processed DataFrame.\n",
    "    \"\"\"\n",
    "\n",
    "    # Read the data from the CSV file into a DataFrame\n",
    "    data = pd.read_csv(Global Dataset of Inflation.csv, encoding='ISO-8859-1')\n",
    "\n",
    "    # Convert column names to lowercase\n",
    "    data.columns = [col.lower() for col in data.columns]\n",
    "\n",
    "    # Replace spaces with underscores (_)\n",
    "    data.columns = [col.replace(' ', '_') for col in data.columns]\n",
    "\n",
    "    # Replace special characters with underscores (_)\n",
    "    data.columns = [re.sub(r'\\W+', '_', col) for col in data.columns]\n",
    "\n",
    "    # Remove the specified 'Unnamed' columns\n",
    "    columns_to_remove = ['unnamed__59', 'unnamed__60', 'unnamed__61', 'unnamed__62', 'unnamed__63']\n",
    "    data = data.drop(columns_to_remove, axis=1, errors='ignore')\n",
    "\n",
    "    return data\n",
    "\n",
    "# Usage example:\n",
    "# Replace 'path_to_your_csv_file.csv' with the path to your CSV file\n",
    "csv_file_path = '/kaggle/input/global-inflation-dataset-212-country-19702022/Global Dataset of Inflation.csv'\n",
    "data = import_and_process_csv(csv_file_path)\n",
    "\n",
    "# Display the first 5 rows of the processed DataFrame to verify the changes\n",
    "data.head()\n"
   ]
  },
  {
   "cell_type": "code",
   "execution_count": null,
   "id": "83487abb",
   "metadata": {
    "execution": {
     "iopub.execute_input": "2023-03-16T22:38:18.121547Z",
     "iopub.status.busy": "2023-03-16T22:38:18.120220Z",
     "iopub.status.idle": "2023-03-16T22:38:18.164864Z",
     "shell.execute_reply": "2023-03-16T22:38:18.163418Z"
    },
    "papermill": {
     "duration": 0.055756,
     "end_time": "2023-03-16T22:38:18.167450",
     "exception": false,
     "start_time": "2023-03-16T22:38:18.111694",
     "status": "completed"
    },
    "tags": []
   },
   "outputs": [],
   "source": [
    "# Define the mapping of country_code to continent\n",
    "country_code_to_continent = {\n",
    "    'AUS': 'Oceania',\n",
    "    'AUT': 'Europe',\n",
    "    'BEL': 'Europe',\n",
    "    'BGR': 'Europe',\n",
    "    'BLR': 'Europe',\n",
    "    'BRA': 'South America',\n",
    "    'CAN': 'North America',\n",
    "    'CHE': 'Europe',\n",
    "    'CHL': 'South America',\n",
    "    'CHN': 'Asia',\n",
    "    'COL': 'South America',\n",
    "    'CRI': 'North America',\n",
    "    'CYP': 'Asia',\n",
    "    'CZE': 'Europe',\n",
    "    'DEU': 'Europe',\n",
    "    'DNK': 'Europe',\n",
    "    'EGY': 'Africa',\n",
    "    'ESP': 'Europe',\n",
    "    'ETH': 'Africa',\n",
    "    'FIN': 'Europe',\n",
    "    'FRA': 'Europe',\n",
    "    'GBR': 'Europe',\n",
    "    'GHA': 'Africa',\n",
    "    'GRC': 'Europe',\n",
    "    'GTM': 'North America',\n",
    "    'HUN': 'Europe',\n",
    "    'IND': 'Asia',\n",
    "    'IRL': 'Europe',\n",
    "    'IRN': 'Asia',\n",
    "    'ISL': 'Europe',\n",
    "    'ISR': 'Asia',\n",
    "    'ITA': 'Europe',\n",
    "    'JOR': 'Asia',\n",
    "    'JPN': 'Asia',\n",
    "    'KOR': 'Asia',\n",
    "    'KWT': 'Asia',\n",
    "    'LKA': 'Asia',\n",
    "    'LUX': 'Europe',\n",
    "    'MAR': 'Africa',\n",
    "    'MEX': 'North America',\n",
    "    'MLT': 'Europe',\n",
    "    'MUS': 'Africa',\n",
    "    'MYS': 'Asia',\n",
    "    'NIC': 'North America',\n",
    "    'NLD': 'Europe',\n",
    "    'NOR': 'Europe',\n",
    "    'NZL': 'Oceania',\n",
    "    'OMN': 'Asia',\n",
    "    'PER': 'South America',\n",
    "    'PHL': 'Asia',\n",
    "    'POL': 'Europe',\n",
    "    'PRT': 'Europe',\n",
    "    'PRY': 'South America',\n",
    "    'QAT': 'Asia',\n",
    "    'ROU': 'Europe',\n",
    "    'RUS': 'Europe',\n",
    "    'RWA': 'Africa',\n",
    "    'SAU': 'Asia',\n",
    "    'SDN': 'Africa',\n",
    "    'SEN': 'Africa',\n",
    "    'SGP': 'Asia',\n",
    "    'SLV': 'North America',\n",
    "    'SVN': 'Europe',\n",
    "    'SWE': 'Europe',\n",
    "    'THA': 'Asia',\n",
    "    'TTO': 'North America',\n",
    "    'TUN': 'Africa',\n",
    "    'TUR': 'Europe',\n",
    "    'UGA': 'Africa',\n",
    "    'UKR': 'Europe',\n",
    "    'URY': 'South America',\n",
    "    'USA': 'North America',\n",
    "    'VEN': 'South America',\n",
    "    'VNM': 'Asia',\n",
    "    'ZAF': 'Africa'\n",
    "}\n",
    "\n",
    "# Create a new 'continent' column based on the 'country_code' column using the mapping defined above\n",
    "data['continent'] = data['country_code'].map(country_code_to_continent)\n",
    "\n",
    "# Print the first 5 rows of the DataFrame to verify the changes\n",
    "data.head()\n"
   ]
  },
  {
   "cell_type": "code",
   "execution_count": null,
   "id": "94f49578",
   "metadata": {
    "execution": {
     "iopub.execute_input": "2023-03-16T22:38:18.184377Z",
     "iopub.status.busy": "2023-03-16T22:38:18.183897Z",
     "iopub.status.idle": "2023-03-16T22:38:18.196842Z",
     "shell.execute_reply": "2023-03-16T22:38:18.195358Z"
    },
    "papermill": {
     "duration": 0.024686,
     "end_time": "2023-03-16T22:38:18.199641",
     "exception": false,
     "start_time": "2023-03-16T22:38:18.174955",
     "status": "completed"
    },
    "tags": []
   },
   "outputs": [],
   "source": [
    "# Count the unique values in the 'indicator_type' column\n",
    "unique_indicator_types = data['indicator_type'].nunique()\n",
    "\n",
    "# Print the number of unique indicator types\n",
    "print(\"Number of indicator_type :\", unique_indicator_types)\n",
    "\n",
    "# Count the unique values in the 'indicator_type' column\n",
    "unique_note= data['note'].nunique()\n",
    "\n",
    "# Print the number of unique indicator types\n",
    "print(\"Number of note :\", unique_note)\n",
    "\n",
    "country_code = data['country_code'].nunique()\n",
    "\n",
    "# Print the number of unique indicator types\n",
    "print(\"Number of country code :\", country_code)\n",
    "\n",
    "\n",
    "serie_name = data['series_name'].nunique()\n",
    "\n",
    "# Print the number of unique indicator types\n",
    "print(\"Number of serie_name :\", serie_name)\n"
   ]
  },
  {
   "cell_type": "code",
   "execution_count": null,
   "id": "8c336111",
   "metadata": {
    "execution": {
     "iopub.execute_input": "2023-03-16T22:38:18.217233Z",
     "iopub.status.busy": "2023-03-16T22:38:18.215852Z",
     "iopub.status.idle": "2023-03-16T22:38:18.223541Z",
     "shell.execute_reply": "2023-03-16T22:38:18.221914Z"
    },
    "papermill": {
     "duration": 0.019341,
     "end_time": "2023-03-16T22:38:18.226379",
     "exception": false,
     "start_time": "2023-03-16T22:38:18.207038",
     "status": "completed"
    },
    "tags": []
   },
   "outputs": [],
   "source": [
    "# Get the unique values in the 'note' column\n",
    "serie_names = data['series_name'].unique()\n",
    "\n",
    "# Print the unique notes\n",
    "print(\"Notes uniques in the column 'serie_name' :\")\n",
    "for note in serie_names:\n",
    "    print(note)"
   ]
  },
  {
   "cell_type": "code",
   "execution_count": null,
   "id": "d938a103",
   "metadata": {
    "execution": {
     "iopub.execute_input": "2023-03-16T22:38:18.243101Z",
     "iopub.status.busy": "2023-03-16T22:38:18.242683Z",
     "iopub.status.idle": "2023-03-16T22:38:18.252341Z",
     "shell.execute_reply": "2023-03-16T22:38:18.250495Z"
    },
    "papermill": {
     "duration": 0.021275,
     "end_time": "2023-03-16T22:38:18.255093",
     "exception": false,
     "start_time": "2023-03-16T22:38:18.233818",
     "status": "completed"
    },
    "tags": []
   },
   "outputs": [],
   "source": [
    "# Group data by 'serie_name' and count the unique 'country_code' in each group\n",
    "country_count_by_series = data.groupby('series_name')['country_code'].nunique()\n",
    "\n",
    "# Print the number of unique country_code for each serie_name\n",
    "print(\"Number of country_code split by serie_name :\")\n",
    "print(country_count_by_series)"
   ]
  },
  {
   "cell_type": "markdown",
   "id": "ad7afb82",
   "metadata": {
    "papermill": {
     "duration": 0.007446,
     "end_time": "2023-03-16T22:38:18.270395",
     "exception": false,
     "start_time": "2023-03-16T22:38:18.262949",
     "status": "completed"
    },
    "tags": []
   },
   "source": [
    "In the second step, we aim for a comprehensive analysis, which requires filtering our dataset based on countries with all 5 types of series_name filled and a 100% completion rate for the years 1990-2022. This significantly narrows down our scope of analysis, resulting in the following counts:\n",
    "- Number of countries with 100% fill rate: 11\n",
    "- Number of series_name with 100% fill rate: 5\n",
    "- Number of years with 100% fill rate: 33"
   ]
  },
  {
   "cell_type": "code",
   "execution_count": null,
   "id": "a136cf6f",
   "metadata": {
    "execution": {
     "iopub.execute_input": "2023-03-16T22:38:18.287072Z",
     "iopub.status.busy": "2023-03-16T22:38:18.286629Z",
     "iopub.status.idle": "2023-03-16T22:38:18.380888Z",
     "shell.execute_reply": "2023-03-16T22:38:18.379281Z"
    },
    "papermill": {
     "duration": 0.1067,
     "end_time": "2023-03-16T22:38:18.384515",
     "exception": false,
     "start_time": "2023-03-16T22:38:18.277815",
     "status": "completed"
    },
    "scrolled": true,
    "tags": []
   },
   "outputs": [],
   "source": [
    "# Select the columns from 1970 to 2022\n",
    "year_columns = [str(year) for year in range(1970, 2023)]\n",
    "\n",
    "# Check if all the year columns are filled (not null) for each row\n",
    "data['all_years_filled'] = data[year_columns].notnull().all(axis=1)\n",
    "\n",
    "# Group data by 'country_code' and count the unique 'serie_name' in each group where all_years_filled is True\n",
    "series_count_by_country = data[data['all_years_filled']].groupby('country_code')['series_name'].nunique()\n",
    "\n",
    "# Filter the country_code with 5 unique serie_name\n",
    "countries_with_all_years_filled = series_count_by_country[series_count_by_country == 5].index\n",
    "\n",
    "# Filter the data to keep only the rows with country_code present in countries_with_all_years_filled\n",
    "filtered_data = data[data['country_code'].isin(countries_with_all_years_filled)]\n",
    "filtered_data\n"
   ]
  },
  {
   "cell_type": "code",
   "execution_count": null,
   "id": "f393a841",
   "metadata": {
    "execution": {
     "iopub.execute_input": "2023-03-16T22:38:18.407175Z",
     "iopub.status.busy": "2023-03-16T22:38:18.406738Z",
     "iopub.status.idle": "2023-03-16T22:38:18.417224Z",
     "shell.execute_reply": "2023-03-16T22:38:18.415787Z"
    },
    "papermill": {
     "duration": 0.02527,
     "end_time": "2023-03-16T22:38:18.419893",
     "exception": false,
     "start_time": "2023-03-16T22:38:18.394623",
     "status": "completed"
    },
    "tags": []
   },
   "outputs": [],
   "source": [
    "# Get a list of year columns from 1970 to 2022\n",
    "year_columns = [str(year) for year in range(1990, 2023)]\n",
    "\n",
    "# Count the non-null values in each year column\n",
    "filled_values_by_year = filtered_data[year_columns].count()\n",
    "\n",
    "# Calculate the fill rate for each year by dividing the count of non-null values by the total number of rows\n",
    "fill_rate_by_year = filled_values_by_year / len(filtered_data)\n",
    "\n",
    "# Convert the fill rates to percentages\n",
    "fill_rate_by_year_percentage = fill_rate_by_year * 100"
   ]
  },
  {
   "cell_type": "code",
   "execution_count": null,
   "id": "b78c92d0",
   "metadata": {
    "execution": {
     "iopub.execute_input": "2023-03-16T22:38:18.440636Z",
     "iopub.status.busy": "2023-03-16T22:38:18.440175Z",
     "iopub.status.idle": "2023-03-16T22:38:18.472829Z",
     "shell.execute_reply": "2023-03-16T22:38:18.471653Z"
    },
    "papermill": {
     "duration": 0.046417,
     "end_time": "2023-03-16T22:38:18.475785",
     "exception": false,
     "start_time": "2023-03-16T22:38:18.429368",
     "status": "completed"
    },
    "tags": []
   },
   "outputs": [],
   "source": [
    "# Get a list of year columns from 1970 to 2022\n",
    "year_columns = [str(year) for year in range(1990, 2023)]\n",
    "\n",
    "# Define a custom function to check if the fill rate is 100% for the given years\n",
    "def is_fill_rate_100(group, years):\n",
    "    filled_values_by_year = group[years].count()\n",
    "    fill_rate_by_year = filled_values_by_year / len(group)\n",
    "    return fill_rate_by_year.all()\n",
    "\n",
    "# Group data by 'country_code' and check if the fill rate is 100% for years 1970-2022\n",
    "country_groups = filtered_data.groupby('country_code')\n",
    "countries_with_100_fill_rate = country_groups.filter(lambda group: is_fill_rate_100(group, year_columns))\n"
   ]
  },
  {
   "cell_type": "code",
   "execution_count": null,
   "id": "52d72ea6",
   "metadata": {
    "execution": {
     "iopub.execute_input": "2023-03-16T22:38:18.497726Z",
     "iopub.status.busy": "2023-03-16T22:38:18.497318Z",
     "iopub.status.idle": "2023-03-16T22:38:18.527707Z",
     "shell.execute_reply": "2023-03-16T22:38:18.526371Z"
    },
    "papermill": {
     "duration": 0.044757,
     "end_time": "2023-03-16T22:38:18.530564",
     "exception": false,
     "start_time": "2023-03-16T22:38:18.485807",
     "status": "completed"
    },
    "tags": []
   },
   "outputs": [],
   "source": [
    "countries_with_100_fill_rate.head()"
   ]
  },
  {
   "cell_type": "code",
   "execution_count": null,
   "id": "7c8e31db",
   "metadata": {
    "execution": {
     "iopub.execute_input": "2023-03-16T22:38:18.552091Z",
     "iopub.status.busy": "2023-03-16T22:38:18.551707Z",
     "iopub.status.idle": "2023-03-16T22:38:18.559938Z",
     "shell.execute_reply": "2023-03-16T22:38:18.558386Z"
    },
    "papermill": {
     "duration": 0.022131,
     "end_time": "2023-03-16T22:38:18.562495",
     "exception": false,
     "start_time": "2023-03-16T22:38:18.540364",
     "status": "completed"
    },
    "tags": []
   },
   "outputs": [],
   "source": [
    "# Count the unique country_code in the DataFrame\n",
    "unique_countries = countries_with_100_fill_rate['country_code'].nunique()\n",
    "\n",
    "# Count the unique serie_name in the DataFrame\n",
    "unique_series = countries_with_100_fill_rate['series_name'].nunique()\n",
    "\n",
    "# Count the number of years with 100% fill rate (1990-2022)\n",
    "years_with_100_fill_rate = len(year_columns)\n",
    "\n",
    "# Print the results\n",
    "print(f\"Number of countries with 100% fill rate: {unique_countries}\")\n",
    "print(f\"Number of serie_name with 100% fill rate: {unique_series}\")\n",
    "print(f\"Number of years with 100% fill rate: {years_with_100_fill_rate}\")"
   ]
  },
  {
   "cell_type": "code",
   "execution_count": null,
   "id": "29325fa2",
   "metadata": {
    "execution": {
     "iopub.execute_input": "2023-03-16T22:38:18.584247Z",
     "iopub.status.busy": "2023-03-16T22:38:18.583785Z",
     "iopub.status.idle": "2023-03-16T22:38:18.588857Z",
     "shell.execute_reply": "2023-03-16T22:38:18.587536Z"
    },
    "papermill": {
     "duration": 0.019001,
     "end_time": "2023-03-16T22:38:18.591229",
     "exception": false,
     "start_time": "2023-03-16T22:38:18.572228",
     "status": "completed"
    },
    "scrolled": true,
    "tags": []
   },
   "outputs": [],
   "source": [
    "df = countries_with_100_fill_rate"
   ]
  },
  {
   "cell_type": "code",
   "execution_count": null,
   "id": "6bf10d88",
   "metadata": {
    "execution": {
     "iopub.execute_input": "2023-03-16T22:38:18.613562Z",
     "iopub.status.busy": "2023-03-16T22:38:18.613141Z",
     "iopub.status.idle": "2023-03-16T22:38:18.620575Z",
     "shell.execute_reply": "2023-03-16T22:38:18.619518Z"
    },
    "papermill": {
     "duration": 0.021306,
     "end_time": "2023-03-16T22:38:18.622891",
     "exception": false,
     "start_time": "2023-03-16T22:38:18.601585",
     "status": "completed"
    },
    "tags": []
   },
   "outputs": [],
   "source": [
    "# Add a new column 'average_basket' initialized to 100 for all country_code\n",
    "df['average_basket'] = 100\n",
    "\n",
    "# Create a new column 'average_basket_1970' by applying the inflation rate from the '1970' column to the 'average_basket' column\n",
    "# Note that the values in the '1970' column are percentages, so we add 1 before multiplying\n",
    "df['average_basket_1990'] = (1 + df['1990'] / 100) * df['average_basket']\n"
   ]
  },
  {
   "cell_type": "code",
   "execution_count": null,
   "id": "a910c6ef",
   "metadata": {
    "execution": {
     "iopub.execute_input": "2023-03-16T22:38:18.644805Z",
     "iopub.status.busy": "2023-03-16T22:38:18.644389Z",
     "iopub.status.idle": "2023-03-16T22:38:18.687231Z",
     "shell.execute_reply": "2023-03-16T22:38:18.686127Z"
    },
    "papermill": {
     "duration": 0.057452,
     "end_time": "2023-03-16T22:38:18.690282",
     "exception": false,
     "start_time": "2023-03-16T22:38:18.632830",
     "status": "completed"
    },
    "tags": []
   },
   "outputs": [],
   "source": [
    "# Create the 'average_basket_YYYY' columns for each year from 1971 to 2022\n",
    "for year in range(1991, 2023):\n",
    "    prev_year = str(year - 1)\n",
    "    prev_prev_year = str(year - 2)\n",
    "    current_year = str(year)\n",
    "    \n",
    "    # Check if the previous year's 'average_basket_YYYY' value is missing\n",
    "    missing_prev_year = pd.isna(df[f'average_basket_{prev_year}'])\n",
    "    \n",
    "    # If the previous year's 'average_basket_YYYY' value is missing, use the value from the year before\n",
    "    if missing_prev_year.any():\n",
    "        df.loc[missing_prev_year, f'average_basket_{prev_year}'] = df.loc[missing_prev_year, f'average_basket_{prev_prev_year}']\n",
    "    \n",
    "    # Apply the inflation rate from the current year's column to the previous year's 'average_basket_YYYY' column\n",
    "    df[f'average_basket_{current_year}'] = (1 + df[current_year] / 100) * df[f'average_basket_{prev_year}']\n",
    "\n"
   ]
  },
  {
   "cell_type": "code",
   "execution_count": null,
   "id": "419fd444",
   "metadata": {
    "execution": {
     "iopub.execute_input": "2023-03-16T22:38:18.711986Z",
     "iopub.status.busy": "2023-03-16T22:38:18.711551Z",
     "iopub.status.idle": "2023-03-16T22:38:18.802232Z",
     "shell.execute_reply": "2023-03-16T22:38:18.800940Z"
    },
    "papermill": {
     "duration": 0.104882,
     "end_time": "2023-03-16T22:38:18.804997",
     "exception": false,
     "start_time": "2023-03-16T22:38:18.700115",
     "status": "completed"
    },
    "tags": []
   },
   "outputs": [],
   "source": [
    "pd.set_option(\"display.max_columns\", None)\n",
    "df.head()"
   ]
  },
  {
   "cell_type": "markdown",
   "id": "22e69031",
   "metadata": {
    "papermill": {
     "duration": 0.010284,
     "end_time": "2023-03-16T22:38:18.825931",
     "exception": false,
     "start_time": "2023-03-16T22:38:18.815647",
     "status": "completed"
    },
    "tags": []
   },
   "source": [
    "For our analysis, we examine the evolution of inflation on an average basket of 100 in local currency through a line plot. Subsequently, we rank the inflation rates of countries in descending order for each continent, splitting by series_name. We then visualize all this information on a map."
   ]
  },
  {
   "cell_type": "code",
   "execution_count": null,
   "id": "2d952767",
   "metadata": {
    "execution": {
     "iopub.execute_input": "2023-03-16T22:38:18.849057Z",
     "iopub.status.busy": "2023-03-16T22:38:18.848197Z",
     "iopub.status.idle": "2023-03-16T22:38:19.132178Z",
     "shell.execute_reply": "2023-03-16T22:38:19.131258Z"
    },
    "papermill": {
     "duration": 0.298387,
     "end_time": "2023-03-16T22:38:19.134722",
     "exception": false,
     "start_time": "2023-03-16T22:38:18.836335",
     "status": "completed"
    },
    "tags": []
   },
   "outputs": [],
   "source": [
    "\n",
    "# Iterate through unique continents and create a line plot for each\n",
    "for continent in df['continent'].unique():\n",
    "    # Initialize a Plotly Figure\n",
    "    fig = go.Figure()\n",
    "\n",
    "    # Iterate through unique country codes within the current continent\n",
    "    for country_code in df[df['continent'] == continent]['country_code'].unique():\n",
    "        # Filter the DataFrame for the current country code\n",
    "        country_data = df[df['country_code'] == country_code]\n",
    "\n",
    "        # Extract the average_basket_YYYY columns and their corresponding years\n",
    "        average_basket_columns = [f'average_basket_{year}' for year in range(1990, 2023)]\n",
    "        years = list(range(1970, 2023))\n",
    "        average_basket_values = country_data[average_basket_columns].values[0]\n",
    "\n",
    "        # Add a line plot for the current country code\n",
    "        fig.add_trace(go.Scatter(x=years, y=average_basket_values, mode='lines', name=country_code))\n",
    "\n",
    "    # Set the axis labels and title\n",
    "    fig.update_layout(\n",
    "        xaxis_title=\"Years\",\n",
    "        yaxis_title=\"Average Basket Value\",\n",
    "        title=f\"Evolution of Average Basket Value over Time by Country Code in {continent}\"\n",
    "    )\n",
    "\n",
    "    # Show the figure\n",
    "    fig.show()\n",
    "\n"
   ]
  },
  {
   "cell_type": "code",
   "execution_count": null,
   "id": "55b5ac9c",
   "metadata": {
    "execution": {
     "iopub.execute_input": "2023-03-16T22:38:19.160199Z",
     "iopub.status.busy": "2023-03-16T22:38:19.159760Z",
     "iopub.status.idle": "2023-03-16T22:38:19.174786Z",
     "shell.execute_reply": "2023-03-16T22:38:19.173687Z"
    },
    "papermill": {
     "duration": 0.030592,
     "end_time": "2023-03-16T22:38:19.177328",
     "exception": false,
     "start_time": "2023-03-16T22:38:19.146736",
     "status": "completed"
    },
    "tags": []
   },
   "outputs": [],
   "source": [
    "# Calculate the percentage variation between average_basket_1970 and average_basket_2022\n",
    "df['variation_percent'] = ((df['average_basket_2022'] - df['average_basket_1990']) / df['average_basket_1990']) * 100\n",
    "\n",
    "# Sort the DataFrame by continent and variation_percent in descending order\n",
    "sorted_df = df.sort_values(by=['continent', 'variation_percent'], ascending=[True, False])\n",
    "\n",
    "# Display the sorted DataFrame with only the desired columns\n",
    "result = sorted_df[['continent', 'country', 'variation_percent']]\n"
   ]
  },
  {
   "cell_type": "code",
   "execution_count": null,
   "id": "aaf64020",
   "metadata": {
    "execution": {
     "iopub.execute_input": "2023-03-16T22:38:19.203239Z",
     "iopub.status.busy": "2023-03-16T22:38:19.202440Z",
     "iopub.status.idle": "2023-03-16T22:38:19.215661Z",
     "shell.execute_reply": "2023-03-16T22:38:19.214672Z"
    },
    "papermill": {
     "duration": 0.029077,
     "end_time": "2023-03-16T22:38:19.218279",
     "exception": false,
     "start_time": "2023-03-16T22:38:19.189202",
     "status": "completed"
    },
    "tags": []
   },
   "outputs": [],
   "source": [
    "# Initialize an empty dictionary to store the DataFrames for each continent\n",
    "continent_dfs = {}\n",
    "\n",
    "# Loop through the unique continents in the DataFrame\n",
    "for continent in df['continent'].unique():\n",
    "    # Filter the DataFrame to keep only the rows with the current continent\n",
    "    continent_df = df[df['continent'] == continent]\n",
    "    \n",
    "    # Sort the DataFrame by variation_percent in descending order\n",
    "    sorted_continent_df = continent_df.sort_values(by=['variation_percent'], ascending=False)\n",
    "    \n",
    "    # Keep only the desired columns\n",
    "    result = sorted_continent_df[['country', 'series_name', 'variation_percent']]\n",
    "    \n",
    "    # Store the resulting DataFrame in the dictionary using the continent name as the key\n",
    "    continent_dfs[continent] = result\n",
    "\n",
    "# Example: To access the DataFrame for Europe, use continent_dfs['Europe']\n"
   ]
  },
  {
   "cell_type": "code",
   "execution_count": null,
   "id": "6207ec35",
   "metadata": {
    "execution": {
     "iopub.execute_input": "2023-03-16T22:38:19.244652Z",
     "iopub.status.busy": "2023-03-16T22:38:19.243863Z",
     "iopub.status.idle": "2023-03-16T22:38:19.260996Z",
     "shell.execute_reply": "2023-03-16T22:38:19.259818Z"
    },
    "papermill": {
     "duration": 0.033138,
     "end_time": "2023-03-16T22:38:19.263626",
     "exception": false,
     "start_time": "2023-03-16T22:38:19.230488",
     "status": "completed"
    },
    "scrolled": true,
    "tags": []
   },
   "outputs": [],
   "source": [
    "\n",
    "\n",
    "def display_side_by_side(*args):\n",
    "    html_str = ''\n",
    "    for df in args:\n",
    "        html_str += df.to_html()\n",
    "    display_html(html_str.replace('table', 'table style=\"display:inline;margin-right:10px\"'), raw=True)\n",
    "\n",
    "# Convert the dictionary of continent DataFrames into a list of DataFrames\n",
    "continent_df_list = list(continent_dfs.values())\n",
    "\n",
    "# Display all DataFrames side by side in a single Jupyter notebook cell\n",
    "display_side_by_side(*continent_df_list)\n",
    "\n"
   ]
  },
  {
   "cell_type": "code",
   "execution_count": null,
   "id": "208fd7e0",
   "metadata": {
    "execution": {
     "iopub.execute_input": "2023-03-16T22:38:19.290606Z",
     "iopub.status.busy": "2023-03-16T22:38:19.289569Z",
     "iopub.status.idle": "2023-03-16T22:38:19.455563Z",
     "shell.execute_reply": "2023-03-16T22:38:19.454388Z"
    },
    "papermill": {
     "duration": 0.182466,
     "end_time": "2023-03-16T22:38:19.458469",
     "exception": false,
     "start_time": "2023-03-16T22:38:19.276003",
     "status": "completed"
    },
    "tags": []
   },
   "outputs": [],
   "source": [
    "\n",
    "\n",
    "# Concatenate all the continent DataFrames with the 'Energy Consumer Price Inflation' series_name\n",
    "all_continents_energy_inflation = pd.concat([\n",
    "    continent_df[continent_df['series_name'] == 'Energy Consumer Price Inflation']\n",
    "    for continent_df in continent_dfs.values()\n",
    "])\n",
    "\n",
    "fig = go.Figure(data=go.Choropleth(\n",
    "    locations=all_continents_energy_inflation['country'],\n",
    "    locationmode='country names',\n",
    "    z=all_continents_energy_inflation['variation_percent'],\n",
    "    text=all_continents_energy_inflation['country'],\n",
    "    colorscale='Viridis',\n",
    "    autocolorscale=False,\n",
    "    reversescale=False,\n",
    "    marker_line_color='darkgray',\n",
    "    marker_line_width=0.5,\n",
    "    colorbar=dict(\n",
    "        title='Variation en pourcentage<br>de l\\'Inflation des prix de l\\'énergie<br>pour les consommateurs<br>(1990-2022)',\n",
    "        x=0.8\n",
    "    )\n",
    "))\n",
    "\n",
    "fig.update_geos(\n",
    "    showcountries=True,\n",
    "    showcoastlines=True,\n",
    "    showframe=False,\n",
    "    projection_type='natural earth',\n",
    ")\n",
    "\n",
    "fig.update_layout(\n",
    "    title=dict(\n",
    "        text=\"Variation en pourcentage de l'Inflation des prix de l'énergie pour les consommateurs (1990-2022)\",\n",
    "        xanchor='center',\n",
    "        x=0.5,\n",
    "        y=0.95\n",
    "    ),\n",
    "    geo=dict(\n",
    "        showframe=False,\n",
    "        showcoastlines=True,\n",
    "        showcountries=True,\n",
    "        projection_type='natural earth',\n",
    "        bgcolor='rgba(243, 243, 243, 0.5)'\n",
    "    ),\n",
    "    margin=dict(t=50, l=20, r=20, b=20)\n",
    ")\n",
    "\n",
    "fig.show()\n"
   ]
  },
  {
   "cell_type": "code",
   "execution_count": null,
   "id": "bd5aee21",
   "metadata": {},
   "outputs": [],
   "source": []
  },
  {
   "cell_type": "code",
   "execution_count": null,
   "id": "96ca8cf1",
   "metadata": {
    "papermill": {
     "duration": 0.011867,
     "end_time": "2023-03-16T22:38:19.482933",
     "exception": false,
     "start_time": "2023-03-16T22:38:19.471066",
     "status": "completed"
    },
    "tags": []
   },
   "outputs": [],
   "source": []
  }
 ],
 "metadata": {
  "kernelspec": {
   "display_name": "Python 3",
   "language": "python",
   "name": "python3"
  },
  "language_info": {
   "codemirror_mode": {
    "name": "ipython",
    "version": 3
   },
   "file_extension": ".py",
   "mimetype": "text/x-python",
   "name": "python",
   "nbconvert_exporter": "python",
   "pygments_lexer": "ipython3",
   "version": "3.6.8"
  },
  "papermill": {
   "default_parameters": {},
   "duration": 13.248245,
   "end_time": "2023-03-16T22:38:20.216955",
   "environment_variables": {},
   "exception": null,
   "input_path": "__notebook__.ipynb",
   "output_path": "__notebook__.ipynb",
   "parameters": {},
   "start_time": "2023-03-16T22:38:06.968710",
   "version": "2.4.0"
  }
 },
 "nbformat": 4,
 "nbformat_minor": 5
}
